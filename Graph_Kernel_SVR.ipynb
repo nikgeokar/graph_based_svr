{
 "cells": [
  {
   "cell_type": "markdown",
   "id": "c66a7ba3",
   "metadata": {},
   "source": [
    "<h1>\n",
    "<center>Graph Kernel SVM Regresion</center>\n",
    "</h1>"
   ]
  },
  {
   "cell_type": "markdown",
   "id": "ce4bfc8e",
   "metadata": {},
   "source": [
    "<font size=\"3\"> \n",
    "In this notebook, we train and evaluate a graph-based SVR model.\n",
    "    \n",
    "In more detail:   \n",
    "- We use the PropagationAttr model for computing kernels with graph data. \n",
    "- PropagationAttr return adjacency matrixes of shape (num_of_grpahs,num_of_grpahs) for train and test.   \n",
    "- We use these adjacency matrixes as input for an SVM MultiOutputRegressor.   \n",
    "- The output for that model is an array with shape (num_of_grpahs,num_of_sectors).\n",
    "- We use that info to train and test the model with different hyper-parameters of PropagationAttr\n",
    "    \n",
    "    Ps: We use ParkingViolation and Chickenpox datasets for our experiments   \n",
    "</font>"
   ]
  },
  {
   "cell_type": "markdown",
   "id": "d07882c1",
   "metadata": {},
   "source": [
    "## Generals"
   ]
  },
  {
   "cell_type": "markdown",
   "id": "4bf5800e",
   "metadata": {},
   "source": [
    "<font size=\"3\"> \n",
    "Packages import and system configurations. \n",
    "</font>"
   ]
  },
  {
   "cell_type": "code",
   "execution_count": null,
   "id": "cce0c7d9",
   "metadata": {},
   "outputs": [],
   "source": [
    "import numpy as np\n",
    "from sklearn.svm import SVR\n",
    "from sklearn.multioutput import MultiOutputRegressor\n",
    "from grakel.kernels import PropagationAttr\n",
    "import pandas as pd\n",
    "import pickle\n",
    "from datetime import datetime as dt\n",
    "from sklearn import metrics\n",
    "import matplotlib.pyplot as plt\n",
    "import multiprocessing\n",
    "\n",
    "cores = multiprocessing.cpu_count()-2\n",
    "project_path = '/Users/nickkarras/PycharmProjects/Graph_Based_SVR'"
   ]
  },
  {
   "cell_type": "markdown",
   "id": "2cfe7daf",
   "metadata": {},
   "source": [
    "<font size=\"3\"> \n",
    "Datasets paths. \n",
    "</font>"
   ]
  },
  {
   "cell_type": "code",
   "execution_count": null,
   "id": "10f830a2",
   "metadata": {},
   "outputs": [],
   "source": [
    "#Parking Violation\n",
    "G_train_path_park = project_path + '/Data/ParkingViolationPrediction/G_Train.pkl'\n",
    "G_test_path_park = project_path + '/Data/ParkingViolationPrediction/G_Test.pkl'\n",
    "test_targets_path_park = project_path + '/Data/ParkingViolationPrediction/Init/Test_Targets.csv'\n",
    "train_targets_path_park = project_path + '/Data/ParkingViolationPrediction/Init/Train_Targets.csv'\n",
    "test_mask_path_park = project_path + '/Data/ParkingViolationPrediction/Init/Test_Mask.csv'\n",
    "\n",
    "#Chickenpox\n",
    "G_train_path_chic = project_path + '/Data/Chickenpox/G2_Train.pkl'\n",
    "G_test_path_chic = project_path + '/Data/Chickenpox/G2_Test.pkl'\n",
    "test_targets_path_chic = project_path + '/Data/Chickenpox/Init/Chickenpox_Test_targets.csv'\n",
    "train_targets_path_chic = project_path + '/Data/Chickenpox/Init/Chickenpox_Train_targets.csv'\n",
    "test_mask_path_chic = None"
   ]
  },
  {
   "cell_type": "markdown",
   "id": "6a6c646b",
   "metadata": {},
   "source": [
    "## Data Preprocessing "
   ]
  },
  {
   "cell_type": "markdown",
   "id": "16c25421",
   "metadata": {},
   "source": [
    "<font size=\"3\"> \n",
    "A function that takes as input the data paths and return the data.\n",
    "</font>"
   ]
  },
  {
   "cell_type": "code",
   "execution_count": null,
   "id": "a1b26e8b",
   "metadata": {},
   "outputs": [],
   "source": [
    "def data_load(G_train_path,G_test_path,test_targets_path,train_targets_path,use_test_mask,test_mask_path):\n",
    "    with open(G_train_path, 'rb') as inp:\n",
    "        G_train = pickle.load(inp)\n",
    "    with open(G_test_path, 'rb') as inp:\n",
    "        G_test = pickle.load(inp)\n",
    "        \n",
    "    y_train = pd.read_csv(train_targets_path,sep=',', index_col=0)\n",
    "    y_test = pd.read_csv(test_targets_path,sep=',', index_col=0)\n",
    "    if use_test_mask:\n",
    "        test_mask = pd.read_csv(test_mask_path,index_col=0)\n",
    "    else:\n",
    "        test_mask = None\n",
    "    return G_train,G_test,y_train,y_test,test_mask"
   ]
  },
  {
   "cell_type": "markdown",
   "id": "5e6b7b2c",
   "metadata": {},
   "source": [
    "<font size=\"3\"> \n",
    "A function that takes the datasets and return a subset for each data accoriding the given data-sizes.\n",
    "</font>"
   ]
  },
  {
   "cell_type": "code",
   "execution_count": null,
   "id": "25e1572f",
   "metadata": {},
   "outputs": [],
   "source": [
    "def get_subset(G_train,G_test,y_train,y_test,use_test_mask,test_mask,train_size,test_size):\n",
    "    G_train = G_train[0:train_size]\n",
    "    G_test = G_test[0:test_size]\n",
    "    y_train = y_train.iloc[:,:train_size]\n",
    "    y_test = y_test.iloc[:,:test_size]\n",
    "    if use_test_mask:\n",
    "        test_mask = test_mask.iloc[:,:test_size]\n",
    "    else:\n",
    "        test_mask = None\n",
    "    return G_train,G_test,y_train,y_test,test_mask"
   ]
  },
  {
   "cell_type": "markdown",
   "id": "d83332a4",
   "metadata": {},
   "source": [
    "<font size=\"3\"> \n",
    "A function that get subset of the data if the given variable is True and reshape the targets to the necessary shape.\n",
    "</font>"
   ]
  },
  {
   "cell_type": "code",
   "execution_count": null,
   "id": "b68390cb",
   "metadata": {},
   "outputs": [],
   "source": [
    "def data_preprocess(G_train,G_test,y_train,y_test,use_test_mask,test_mask,subset,train_size,test_size):\n",
    "    if subset:\n",
    "        G_train,G_test,y_train,y_test,test_mask = get_subset(G_train,G_test,y_train,y_test,use_test_mask,test_mask,train_size,test_size)\n",
    "\n",
    "    y_train = np.array(y_train.T)\n",
    "    y_test = np.array(y_test.T)\n",
    "    if use_test_mask:\n",
    "        test_mask = np.array(test_mask.T)\n",
    "    else:\n",
    "        test_mask = None\n",
    "    return G_train,G_test,y_train,y_test,test_mask"
   ]
  },
  {
   "cell_type": "markdown",
   "id": "2e994c56",
   "metadata": {},
   "source": [
    "## Model Evaluation"
   ]
  },
  {
   "cell_type": "markdown",
   "id": "54020094",
   "metadata": {},
   "source": [
    "<font size=\"3\"> \n",
    "A function that calculates the Mean Absolute Error (MAE) and Mean Squared Error (MSE) between predictions and actual targets for train and test sets. \n",
    "\n",
    "    \n",
    "In case of Parking data, it uses a mask in order to calculate the errors only for the raw targets \n",
    "</font>"
   ]
  },
  {
   "cell_type": "code",
   "execution_count": null,
   "id": "9120ea37",
   "metadata": {},
   "outputs": [],
   "source": [
    "def calculate_metrics_on_actuals(eval_set,y_pred,y_test,use_test_mask,test_mask):\n",
    "    \n",
    "    if eval_set == 'test':\n",
    "        pred = []\n",
    "        actual = []\n",
    "        if use_test_mask:\n",
    "            for i in range(0,(len(y_pred))):\n",
    "                for k in range (0,len(y_pred[0])):\n",
    "                    if test_mask[i][k] == 1:\n",
    "                        prd = y_pred[i][k]\n",
    "                        pred.append(float(prd))\n",
    "                        act = y_test[i][k]\n",
    "                        actual.append(float(act))\n",
    "        else:\n",
    "            for i in range(0,(len(y_pred))):\n",
    "                for k in range (0,len(y_pred[0])):\n",
    "                    prd = y_pred[i][k]\n",
    "                    pred.append(float(prd))\n",
    "                    act = y_test[i][k]\n",
    "                    actual.append(float(act))\n",
    "    \n",
    "    elif eval_set == 'train':\n",
    "        pred = []\n",
    "        actual = []\n",
    "        for i in range(0,(len(y_pred))):\n",
    "            for k in range (0,len(y_pred[0])):\n",
    "                prd = y_pred[i][k]\n",
    "                pred.append(float(prd))\n",
    "                act = y_test[i][k]\n",
    "                actual.append(float(act))    \n",
    "        \n",
    "        \n",
    "    MAE = round(metrics.mean_absolute_error(actual, pred),5)\n",
    "    print (f\"The Mean Abslolute Error (MAE) that have been calculated for {eval_set} set is: {MAE}\")\n",
    "    MSE = round(metrics.mean_squared_error(actual, pred),5)\n",
    "    print (f\"The Mean Squared Error (MSE) that have been calculated for {eval_set} set is: {MSE}\")\n",
    "    return MAE,MSE,pred,actual"
   ]
  },
  {
   "cell_type": "markdown",
   "id": "61982a38",
   "metadata": {},
   "source": [
    "<font size=\"3\">\n",
    "The Default kernel computation function. (we just run some experiments with it)"
   ]
  },
  {
   "cell_type": "code",
   "execution_count": null,
   "id": "56f9ea25",
   "metadata": {},
   "outputs": [],
   "source": [
    "def _dot(x, y):\n",
    "    return sum(x[k]*y[k] for k in x)"
   ]
  },
  {
   "cell_type": "markdown",
   "id": "886635c4",
   "metadata": {},
   "source": [
    "<font size=\"3\">\n",
    "Metric function for kernel computation.  Where x,y is the vectors produced from LSH for each graph and the convolution product is only given for points where the signals overlap completely."
   ]
  },
  {
   "cell_type": "code",
   "execution_count": null,
   "id": "5043db75",
   "metadata": {},
   "outputs": [],
   "source": [
    "def _conv(x, y):\n",
    "    a=list(x[k] for k in x)\n",
    "    b=list(y[k] for k in x)\n",
    "    c=np.convolve(a,b,'valid')\n",
    "    return c[0]"
   ]
  },
  {
   "cell_type": "markdown",
   "id": "8b09f7d5",
   "metadata": {},
   "source": [
    "<font size=\"3\">\n",
    "A core function that calculates the prediction errors by applying the following steps:\n",
    "<ol>\n",
    "<li>Take the necessary data and the given hyper-parameters.</li>\n",
    "<li>Apply graph-based kernel calculations using PropagationAttr according to the given parameters.</li>\n",
    "<li>Fit and transform train graphs.</li>\n",
    "<li>Transform Test Graphs.</li>\n",
    "<li>Create an adjacency matrix for test and train graphs.</li>\n",
    "<li>Train a MultiOutputRegressor SVM Regressor with a precomputed kernel using adjacency matrixes.</li>\n",
    "<li>Calculate metrics for train set and for raw test targets</li>"
   ]
  },
  {
   "cell_type": "code",
   "execution_count": null,
   "id": "dec1220a",
   "metadata": {},
   "outputs": [],
   "source": [
    "def evaluate_model(G_train,G_test,y_train,y_test,use_test_mask,test_mask,parameters,cores):\n",
    "    start = dt.now()\n",
    "    graph_kernels = PropagationAttr(metric=_conv,t_max=parameters['t_max'],w=parameters['w'],M=parameters['M'],normalize=True,n_jobs=cores)\n",
    "    K_train = graph_kernels.fit_transform(G_train)\n",
    "    K_test = graph_kernels.transform(G_test)\n",
    "    G_train = []\n",
    "    G_test = []\n",
    "    running_secs = (dt.now() - start).seconds\n",
    "    print (f\"\\nPropagationAttr training have finished succesfully in {(dt.now() - start).seconds} seconds\")\n",
    "    print (f\"Parameters : t_max={parameters['t_max']}, w={parameters['w']}, M:{parameters['M']}\")\n",
    "    SVM_Mregressor = MultiOutputRegressor(SVR(kernel='precomputed'))\n",
    "    SVM_Mregressor.fit(K_train, y_train)\n",
    "    \n",
    "    y_train_pred = SVM_Mregressor.predict(K_train)\n",
    "    train_MAE,train_MSE,train_pred,train_actual = calculate_metrics_on_actuals('train',y_train_pred,y_train,use_test_mask,test_mask)\n",
    "    \n",
    "    y_pred = SVM_Mregressor.predict(K_test)\n",
    "    MAE,MSE,pred,actual = calculate_metrics_on_actuals('test',y_pred,y_test,use_test_mask,test_mask)\n",
    "    return MAE,MSE,pred,actual"
   ]
  },
  {
   "cell_type": "markdown",
   "id": "6313201c",
   "metadata": {},
   "source": [
    "<font size=\"3\">\n",
    "A function that use evaluate_model function in order to make experiments for all of the given hyper-parameters while saving the calculate metrics, predictions and targets.\n",
    "</font>"
   ]
  },
  {
   "cell_type": "code",
   "execution_count": null,
   "id": "af253bed",
   "metadata": {},
   "outputs": [],
   "source": [
    "def parameters_tuning(G_train,G_test,y_train,y_test,use_test_mask,test_mask,parameters,cores):\n",
    "    results = []\n",
    "    predictions = []\n",
    "    true_values = []\n",
    "    for i in range (0,len(parameters)):\n",
    "        MAE,MSE,pred,actual = evaluate_model(G_train,G_test,y_train,y_test,use_test_mask,test_mask,parameters[i],cores)\n",
    "        results.append({'Parameters':parameters[i],'MAE':MAE,'MSE':MSE})\n",
    "        predictions.append(pred)\n",
    "        true_values.append(actual)\n",
    "    return results,predictions,true_values"
   ]
  },
  {
   "cell_type": "markdown",
   "id": "7724631c",
   "metadata": {},
   "source": [
    "## Plotting "
   ]
  },
  {
   "cell_type": "markdown",
   "id": "6d76c145",
   "metadata": {},
   "source": [
    "<font size=\"3\">\n",
    "A function tha takes the prediciton and the true values and create a plot with them.\n",
    "</font>"
   ]
  },
  {
   "cell_type": "code",
   "execution_count": null,
   "id": "30f5dade",
   "metadata": {},
   "outputs": [],
   "source": [
    "def plot_actuals_predictions(predicted_value,true_value,data_name):\n",
    "    plt.figure(figsize=(7,7))\n",
    "    plt.scatter(true_value, predicted_value, c='crimson')\n",
    "    p1 = max(max(predicted_value), max(true_value))\n",
    "    p2 = min(min(predicted_value), min(true_value))\n",
    "    plt.title('Actual vs Predicted Values')\n",
    "    plt.plot([p1, p2], [p1, p2], 'b-')\n",
    "    plt.xlabel('True Values', fontsize=12)\n",
    "    plt.ylabel('Predictions', fontsize=12)\n",
    "    plt.axis('equal')\n",
    "    #plt.savefig('Exports/Graph_Based_SVR_Predictions_' + data_name + '.pdf')\n",
    "    plt.show()"
   ]
  },
  {
   "cell_type": "markdown",
   "id": "c6a154d7",
   "metadata": {},
   "source": [
    "## Functionality Combinations for Parking Data"
   ]
  },
  {
   "cell_type": "code",
   "execution_count": null,
   "id": "36aa9498",
   "metadata": {
    "scrolled": false
   },
   "outputs": [],
   "source": [
    "parameters = [{\"t_max\":5,'w':20,'M':'L1'},{\"t_max\":5,'w':25,'M':'L1'},{\"t_max\":5,'w':30,'M':'L1'},\n",
    "          {\"t_max\":10,'w':20,'M':'L1'},{\"t_max\":10,'w':25,'M':'L1'},{\"t_max\":10,'w':30,'M':'L1'},\n",
    "            {\"t_max\":5,'w':20,'M':'L2'},{\"t_max\":5,'w':25,'M':'L2'},{\"t_max\":5,'w':30,'M':'L2'},\n",
    "          {\"t_max\":10,'w':20,'M':'L2'},{\"t_max\":10,'w':25,'M':'L2'},{\"t_max\":10,'w':30,'M':'L2'}]\n",
    "\n",
    "#parameters = [{\"t_max\":10,'w':20,'M':'L2'}]\n",
    "\n",
    "G_train,G_test,y_train,y_test,test_mask = data_load(G_train_path_park,G_test_path_park,test_targets_path_park,train_targets_path_park,True,test_mask_path_park)\n",
    "G_train,G_test,y_train,y_test,test_mask = data_preprocess(G_train,G_test,y_train,y_test,True,test_mask,False,20,6)\n",
    "results,pedictions,true_values = parameters_tuning(G_train,G_test,y_train,y_test,True,test_mask,parameters,cores)\n",
    "plot_actuals_predictions(pedictions[11],true_values[11],'Parking')"
   ]
  },
  {
   "cell_type": "markdown",
   "id": "19d65874",
   "metadata": {},
   "source": [
    "## Functionality Combinations for ChickenPox Data"
   ]
  },
  {
   "cell_type": "code",
   "execution_count": null,
   "id": "15fd8dc3",
   "metadata": {
    "scrolled": false
   },
   "outputs": [],
   "source": [
    "parameters = [{\"t_max\":15,'w':20,'M':'L1'},{\"t_max\":15,'w':25,'M':'L1'},{\"t_max\":15,'w':30,'M':'L1'},\n",
    "          {\"t_max\":25,'w':20,'M':'L1'},{\"t_max\":25,'w':25,'M':'L1'},{\"t_max\":25,'w':30,'M':'L1'},\n",
    "            {\"t_max\":15,'w':20,'M':'L2'},{\"t_max\":15,'w':25,'M':'L2'},{\"t_max\":15,'w':30,'M':'L2'},\n",
    "          {\"t_max\":25,'w':20,'M':'L2'},{\"t_max\":25,'w':25,'M':'L2'},{\"t_max\":25,'w':30,'M':'L2'}]\n",
    "\n",
    "#parameters = [{\"t_max\":5,'w':20,'M':'L1'}]\n",
    "\n",
    "G_train,G_test,y_train,y_test,test_mask = data_load(G_train_path_chic,G_test_path_chic,test_targets_path_chic,train_targets_path_chic,False,test_mask_path_chic)\n",
    "G_train,G_test,y_train,y_test,test_mask = data_preprocess(G_train,G_test,y_train,y_test,False,test_mask,False,200,60)\n",
    "results,pedictions,true_values = parameters_tuning(G_train,G_test,y_train,y_test,False,test_mask,parameters,cores)\n",
    "plot_actuals_predictions(pedictions[2],true_values[2],'ChickenPox') "
   ]
  },
  {
   "cell_type": "code",
   "execution_count": null,
   "id": "1dbd1940",
   "metadata": {},
   "outputs": [],
   "source": []
  }
 ],
 "metadata": {
  "kernelspec": {
   "display_name": "full_ml",
   "language": "python",
   "name": "full_ml"
  },
  "language_info": {
   "codemirror_mode": {
    "name": "ipython",
    "version": 3
   },
   "file_extension": ".py",
   "mimetype": "text/x-python",
   "name": "python",
   "nbconvert_exporter": "python",
   "pygments_lexer": "ipython3",
   "version": "3.8.13"
  }
 },
 "nbformat": 4,
 "nbformat_minor": 5
}
