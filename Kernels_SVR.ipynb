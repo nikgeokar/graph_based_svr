{
 "cells": [
  {
   "cell_type": "markdown",
   "id": "32007023",
   "metadata": {},
   "source": [
    "<h1>\n",
    "<center> Experiments with SVM Kernels And K-Nearest Neighbor</center>\n",
    "</h1>"
   ]
  },
  {
   "cell_type": "markdown",
   "id": "40fc8084",
   "metadata": {},
   "source": [
    "<font size=\"3\"> \n",
    "In notebook, we train and test various regression models (SVR kernels, KNN) from the sklearn library.\n",
    "    \n",
    "\n",
    "All experiments were done in non-graph-based approaches where the information on edges and edge weights was not used.\n",
    "    \n",
    "    \n",
    "The data were converted to a common dataframe format and we use only the raw data for testing.\n",
    "\n",
    "In summary, this notebook was created in order to compare the sklearn models with our graph kernel technique that we developed in the notebook \"Graph_Kernel_SVR.ipynb\"\n",
    "    \n",
    "     Ps: We use ParkingViolation and Chickenpox datasets for our experiments  \n",
    "</font>"
   ]
  },
  {
   "cell_type": "markdown",
   "id": "f6f79e1d",
   "metadata": {},
   "source": [
    "## Generals"
   ]
  },
  {
   "cell_type": "markdown",
   "id": "b3260275",
   "metadata": {},
   "source": [
    "<font size=\"3\"> \n",
    "Packages import and system configurations. \n",
    "</font>"
   ]
  },
  {
   "cell_type": "code",
   "execution_count": null,
   "id": "cf02f29f",
   "metadata": {},
   "outputs": [],
   "source": [
    "import numpy as np\n",
    "from sklearn.neighbors import KNeighborsRegressor\n",
    "from sklearn import svm\n",
    "import pandas as pd\n",
    "import pickle\n",
    "from tqdm import tqdm\n",
    "from datetime import datetime as dt\n",
    "import tensorflow as tf\n",
    "from sklearn import metrics\n",
    "from sklearn.model_selection import RandomizedSearchCV\n",
    "import matplotlib.pyplot as plt\n",
    "import multiprocessing\n",
    "\n",
    "cores = multiprocessing.cpu_count()-2\n",
    "project_path = '/Users/nickkarras/PycharmProjects/Graph_Based_SVR'"
   ]
  },
  {
   "cell_type": "markdown",
   "id": "97fe7804",
   "metadata": {},
   "source": [
    "<font size=\"3\"> \n",
    "Datasets paths. \n",
    "</font>"
   ]
  },
  {
   "cell_type": "code",
   "execution_count": null,
   "id": "4ea81030",
   "metadata": {},
   "outputs": [],
   "source": [
    "#ParkingViolation\n",
    "train_set_path_park = project_path + '/Data/ParkingViolationPrediction/Init/Train_Dataset_Graph.pkl'\n",
    "test_set_path_park = project_path + '/Data/ParkingViolationPrediction/Init/Test_Dataset_Graph.pkl'\n",
    "train_targets_path_park = project_path + '/Data/ParkingViolationPrediction/Init/Train_Targets.csv'\n",
    "test_targets_path_park = project_path + '/Data/ParkingViolationPrediction/Init/Test_Targets.csv'\n",
    "train_mask_path_park = project_path + '/Data/ParkingViolationPrediction/Init/Train_Mask.csv'\n",
    "test_mask_path_park = project_path + '/Data/ParkingViolationPrediction/Init/Test_Mask.csv'\n",
    "\n",
    "#ChickePox\n",
    "train_set_path_chic = project_path + '/Data/Chickenpox/Init/Chickenpox_Train_data.pkl'\n",
    "test_set_path_chic = project_path + '/Data/Chickenpox/Init/Chickenpox_Test_data.pkl'\n",
    "train_targets_path_chic = project_path + '/Data/Chickenpox/Init/Chickenpox_Train_targets.csv'\n",
    "test_targets_path_chic = project_path + '/Data/Chickenpox/Init/Chickenpox_Test_targets.csv'\n",
    "train_mask_path_chic = None\n",
    "test_mask_path_chic = None"
   ]
  },
  {
   "cell_type": "markdown",
   "id": "6591002b",
   "metadata": {},
   "source": [
    "## Data Preprocessing "
   ]
  },
  {
   "cell_type": "markdown",
   "id": "b34dec07",
   "metadata": {},
   "source": [
    "<font size=\"3\"> \n",
    "A function that takes as input the data paths and return the data or a subset of them.\n",
    "</font>"
   ]
  },
  {
   "cell_type": "code",
   "execution_count": null,
   "id": "0cd8f251",
   "metadata": {},
   "outputs": [],
   "source": [
    "def data_load(train_set_path,test_set_path,train_targets_path,test_targets_path,use_mask,train_mask_path,test_mask_path,subset,train_size,test_size):\n",
    "    with open(train_set_path, 'rb') as inp:\n",
    "        train_set = pickle.load(inp)\n",
    "    with open(test_set_path, 'rb') as inp:\n",
    "        test_set = pickle.load(inp)\n",
    "      \n",
    "    train_targets = pd.read_csv(train_targets_path,index_col=0)\n",
    "    test_targets = pd.read_csv(test_targets_path,index_col=0)\n",
    "    if use_mask:\n",
    "        train_mask = pd.read_csv(train_mask_path,index_col=0)\n",
    "        test_mask = pd.read_csv(test_mask_path,index_col=0)\n",
    "    else:\n",
    "        train_mask = None\n",
    "        test_mask = None \n",
    "        \n",
    "    if subset:\n",
    "        train_set,test_set,train_targets,test_targets,train_mask,test_mask = get_subset(train_set,test_set,\n",
    "                                        train_targets,test_targets,use_mask,train_mask,test_mask,train_size,test_size)\n",
    "    \n",
    "    return train_set,test_set,train_targets,test_targets,train_mask,test_mask  "
   ]
  },
  {
   "cell_type": "markdown",
   "id": "948528fc",
   "metadata": {},
   "source": [
    "<font size=\"3\"> \n",
    "A function that takes the datasets and return a subset for each data accoriding the given data-sizes.\n",
    "</font>"
   ]
  },
  {
   "cell_type": "code",
   "execution_count": null,
   "id": "f2153e01",
   "metadata": {},
   "outputs": [],
   "source": [
    "def get_subset(train_set,test_set,train_targets,test_targets,use_mask,train_mask,test_mask,train_size,test_size):\n",
    "    train_set = train_set[0:train_size]\n",
    "    test_set = test_set[0:test_size]\n",
    "    train_targets = train_targets.iloc[:,:train_size]\n",
    "    test_targets = test_targets.iloc[:,:test_size]\n",
    "    if use_mask:\n",
    "        train_mask = train_mask.iloc[:,:train_size]\n",
    "        test_mask = test_mask.iloc[:,:test_size]\n",
    "    else:\n",
    "        train_mask = None\n",
    "        test_mask = None\n",
    "        \n",
    "    return train_set,test_set,train_targets,test_targets,train_mask,test_mask"
   ]
  },
  {
   "cell_type": "markdown",
   "id": "9baf010c",
   "metadata": {},
   "source": [
    "<font size=\"3\"> \n",
    "A function takes a list of dataframes that descibes the features, a dataframe with the targets and a mask.\n",
    "\n",
    "Return only the raw X and y on dataframe format.\n",
    "</font>"
   ]
  },
  {
   "cell_type": "code",
   "execution_count": null,
   "id": "6ae2dc19",
   "metadata": {},
   "outputs": [],
   "source": [
    "def data_preprocess(data_set,y,mask):\n",
    "    names = ['Date_Sin','Holidays','Capacity','temp','humidity','Week_Day_Sin','Month_Sin','Real_Time','Γενικό Νοσοκομείο Θεσσαλονίκης «Γ. Γεννηματάς»', 'Λιμάνι' ,'Δημαρχείο Θεσσαλονίκης','Λευκός Πύργος','Αγορά Καπάνι','Λαδάδικα','Πλατεία Άθωνος','Πλατεία Αριστοτέλους','Ροτόντα','Πλατεία Αγίας Σοφίας','Πλατεία Αντιγονιδών','Μουσείο Μακεδονικού Αγώνα','Πλατεία Ναυαρίνου','Πάρκο ΧΑΝΘ','Ιερός Ναός Αγίου Δημητρίου','ΔΕΘ','ΑΠΘ','Άγαλμα Ελευθερίου Βενιζέλου','Ρωμαϊκή Αγορά Θεσσαλονίκης','Predictions']\n",
    "    for i in tqdm (range (0,len(data_set))):\n",
    "        data_set[i] = data_set[i].sort_values(\"Slot_id\")\n",
    "        data_set[i] = data_set[i].set_index(\"Slot_id\")\n",
    "        data_set[i] = data_set[i][names]\n",
    "        \n",
    "        data_set[i] = data_set[i].join(y.iloc[:,i])\n",
    "        data_set[i] = data_set[i].set_axis([*data_set[i].columns[:-1], 'Target'], axis=1, inplace=False)\n",
    "        \n",
    "        data_set[i] = data_set[i].join(mask.iloc[:,i])\n",
    "        data_set[i] = data_set[i].set_axis([*data_set[i].columns[:-1], 'Mask'], axis=1, inplace=False)\n",
    "        \n",
    "        data_set[i] = data_set[i].loc[data_set[i]['Mask'] == 1]\n",
    "        \n",
    "    data_set = pd.concat(data_set).reset_index()\n",
    "    data_set = data_set.drop(['Mask','Slot_id'], axis=1)\n",
    "    \n",
    "    X = data_set.drop(['Target'], axis=1)\n",
    "    y = data_set['Target']\n",
    "    data_set = []\n",
    "    return X,y"
   ]
  },
  {
   "cell_type": "markdown",
   "id": "db62e28b",
   "metadata": {},
   "source": [
    "<font size=\"3\"> \n",
    "A function that apply a random grid search with 4 fold CV in order to find the best hyper-parameters of a svr model.\n",
    "\n",
    "Finally it returns the object with the results.\n",
    "</font>"
   ]
  },
  {
   "cell_type": "code",
   "execution_count": null,
   "id": "e8f53f6d",
   "metadata": {},
   "outputs": [],
   "source": [
    "def svr_random_grid_search_cv(parameters,X_train,y_train,cores):\n",
    "    SVR = svm.SVR()\n",
    "    SVR_random = RandomizedSearchCV(estimator = SVR,param_distributions=parameters,n_iter=16,cv=3,verbose=2,\n",
    "                                    random_state=42,n_jobs=cores,scoring='neg_mean_absolute_error')\n",
    "    SVR_random.fit(X_train,y_train)\n",
    "    print(f\"\\nBest model have been fitting with the following parameters: {SVR_random.best_params_}\")\n",
    "    return SVR_random"
   ]
  },
  {
   "cell_type": "markdown",
   "id": "40a985df",
   "metadata": {},
   "source": [
    "<font size=\"3\"> \n",
    "A function that trains an SMV regression model with the best parameters found from the grid search.\n",
    "\n",
    "Function prints calculated error metrics (mae,mse) for train and test set.\n",
    "</font>"
   ]
  },
  {
   "cell_type": "code",
   "execution_count": null,
   "id": "d3ffaf28",
   "metadata": {},
   "outputs": [],
   "source": [
    "def svr_model_training(X_train,X_test,y_train,y_test,SVR_random):\n",
    "    start = dt.now()\n",
    "    SVR = SVR_random.best_estimator_\n",
    "    SVR.fit(X_train, y_train)\n",
    "    running_secs = (dt.now() - start).seconds\n",
    "    print (f\"\\nSVR training have finished succesfully in {running_secs} seconds\")\n",
    "    \n",
    "    y_train_predicted = SVR.predict(X_train)\n",
    "    train_MAE = round(metrics.mean_absolute_error(y_train, y_train_predicted),5)\n",
    "    print (f\"The Mean Abslolute Error (MAE) that have been calculated for train set is: {train_MAE}\")\n",
    "    test_MSE = round(metrics.mean_squared_error(y_train, y_train_predicted),5)\n",
    "    print (f\"The Mean Squared Error (MSE) that have been calculated for train set is: {test_MSE}\")     \n",
    "    \n",
    "    y_predicted = SVR.predict(X_test)\n",
    "    MAE = round(metrics.mean_absolute_error(y_test, y_predicted),5)\n",
    "    print (f\"The Mean Abslolute Error (MAE) that have been calculated for test set is: {MAE}\")\n",
    "    MSE = round(metrics.mean_squared_error(y_test, y_predicted),5)\n",
    "    print (f\"The Mean Squared Error (MSE) that have been calculated for test set is: {MSE}\")\n",
    "    return MAE,MSE,y_predicted"
   ]
  },
  {
   "cell_type": "markdown",
   "id": "7337c202",
   "metadata": {},
   "source": [
    "<font size=\"3\"> \n",
    "A function that trains an 101-KNeighborsRegressor model.\n",
    "\n",
    "Function returns calculated error metrics (mae,mse) and predictions.\n",
    "</font>"
   ]
  },
  {
   "cell_type": "code",
   "execution_count": null,
   "id": "04492cea",
   "metadata": {},
   "outputs": [],
   "source": [
    "def knn_model_training(X_train,X_test,y_train,y_test):\n",
    "    start = dt.now()\n",
    "    KNN = KNeighborsRegressor(n_neighbors=101)\n",
    "    KNN.fit(X_train, y_train)\n",
    "    running_secs = (dt.now() - start).seconds\n",
    "    \n",
    "    y_train_predicted = KNN.predict(X_train)\n",
    "    print (f\"\\nKNN training have finished succesfully in {running_secs} seconds\")\n",
    "    train_MAE = round(metrics.mean_absolute_error(y_train, y_train_predicted),5)\n",
    "    print (f\"The Mean Abslolute Error (MAE) that have been calculated for train set is: {train_MAE}\")\n",
    "    test_MSE = round(metrics.mean_squared_error(y_train, y_train_predicted),5)\n",
    "    print (f\"The Mean Squared Error (MSE) that have been calculated for train set is: {test_MSE}\")     \n",
    "    \n",
    "    y_predicted = KNN.predict(X_test)\n",
    "    MAE = round(metrics.mean_absolute_error(y_test, y_predicted),5)\n",
    "    print (f\"The Mean Abslolute Error (MAE) that have been calculated for test set is: {MAE}\")\n",
    "    MSE = round(metrics.mean_squared_error(y_test, y_predicted),5)\n",
    "    print (f\"The Mean Squared Error (MSE) that have been calculated for test set is: {MSE}\")\n",
    "    return MAE,MSE"
   ]
  },
  {
   "cell_type": "markdown",
   "id": "06fe29d5",
   "metadata": {},
   "source": [
    "<font size=\"3\">\n",
    "A function tha takes the predicitons and the true values in ordet to create a plot with them.\n",
    "</font>"
   ]
  },
  {
   "cell_type": "code",
   "execution_count": null,
   "id": "cc25dc0a",
   "metadata": {},
   "outputs": [],
   "source": [
    "def plot_actuals_predictions(predicted_value,true_value,data_name):\n",
    "    plt.figure(figsize=(7,7))\n",
    "    plt.scatter(true_value, predicted_value, c='crimson')\n",
    "    p1 = max(max(predicted_value), max(true_value))\n",
    "    p2 = min(min(predicted_value), min(true_value))\n",
    "    plt.title('Actual vs Predicted Values')\n",
    "    plt.plot([p1, p2], [p1, p2], 'b-')\n",
    "    plt.xlabel('True Values', fontsize=12)\n",
    "    plt.ylabel('Predictions', fontsize=12)\n",
    "    plt.axis('equal')\n",
    "    #plt.savefig('Exports/SVR_Predictions_' + data_name + '.pdf')\n",
    "    plt.show()"
   ]
  },
  {
   "cell_type": "markdown",
   "id": "73823ce3",
   "metadata": {},
   "source": [
    "<font size=\"3\">\n",
    "A function that create a dataframe with cross validation results and save it to a csv file\n",
    "</font>"
   ]
  },
  {
   "cell_type": "code",
   "execution_count": null,
   "id": "7c7dcc65",
   "metadata": {},
   "outputs": [],
   "source": [
    "def get_results_df(SVR_random,project_path,data_name):\n",
    "    results = pd.DataFrame(SVR_random.cv_results_)\n",
    "    results = results.sort_values(by=['rank_test_score'])\n",
    "    results = results.reset_index()\n",
    "    results = results.drop(['index'], axis=1)\n",
    "    results.to_csv(project_path +'/Exports/CV_results_'+ data_name +'.csv')\n",
    "    print('\\nAll Cross Validation Results are described by the dataframe bellow:')\n",
    "    return results"
   ]
  },
  {
   "cell_type": "markdown",
   "id": "6e94624d",
   "metadata": {},
   "source": [
    "## 1. Functionality Combinations for Parking Data"
   ]
  },
  {
   "cell_type": "markdown",
   "id": "43381bac",
   "metadata": {},
   "source": [
    "### 1. Data"
   ]
  },
  {
   "cell_type": "code",
   "execution_count": null,
   "id": "ccbd3671",
   "metadata": {
    "scrolled": false
   },
   "outputs": [],
   "source": [
    "train_set,test_set,train_targets,test_targets,train_mask,test_mask =  data_load(train_set_path_park,test_set_path_park,\n",
    "                                train_targets_path_park,test_targets_path_park,True,train_mask_path_park,test_mask_path_park,False,25,6)\n",
    "\n",
    "X_train,y_train = data_preprocess(train_set,train_targets,train_mask)\n",
    "X_test,y_test = data_preprocess(test_set,test_targets,test_mask)"
   ]
  },
  {
   "cell_type": "markdown",
   "id": "6ce8acc0",
   "metadata": {},
   "source": [
    "### 1. SVR"
   ]
  },
  {
   "cell_type": "code",
   "execution_count": null,
   "id": "76335fa4",
   "metadata": {},
   "outputs": [],
   "source": [
    "parameters = {'kernel': ['rbf','linear','sigmoid','poly'],'tol': [0.01,0.001],'gamma': ['scale','auto']}\n",
    "\n",
    "SVR_random = svr_random_grid_search_cv(parameters,X_train,y_train,cores)\n",
    "svr_MAE,svr_MSE,y_predicted = svr_model_training(X_train,X_test,y_train,y_test,SVR_random)\n",
    "plot_actuals_predictions(y_predicted,y_test,'Parking')\n",
    "\n",
    "results = get_results_df(SVR_random,project_path,'Parking')\n",
    "results"
   ]
  },
  {
   "cell_type": "markdown",
   "id": "12920c7f",
   "metadata": {},
   "source": [
    "### 1. KNN"
   ]
  },
  {
   "cell_type": "code",
   "execution_count": null,
   "id": "56f193f7",
   "metadata": {},
   "outputs": [],
   "source": [
    "knn_MAE,knn_MSE = knn_model_training(X_train,X_test,y_train,y_test)"
   ]
  },
  {
   "cell_type": "markdown",
   "id": "16c50871",
   "metadata": {},
   "source": [
    "## 2. Functionality Combinations for ChickenPox Data"
   ]
  },
  {
   "cell_type": "code",
   "execution_count": null,
   "id": "f90c60cf",
   "metadata": {},
   "outputs": [],
   "source": [
    "def data_preprocess_chic(data_set,y):\n",
    "    for i in tqdm (range (0,len(data_set))):       \n",
    "        data_set[i] = data_set[i].join(y.iloc[:,i])\n",
    "        data_set[i] = data_set[i].set_axis([*data_set[i].columns[:-1], 'Target'], axis=1, inplace=False)\n",
    "        \n",
    "    data_set = pd.concat(data_set).reset_index()\n",
    "    \n",
    "    X = data_set.drop(['Target'], axis=1)\n",
    "    y = data_set['Target']\n",
    "    data_set = []\n",
    "    return X,y"
   ]
  },
  {
   "cell_type": "markdown",
   "id": "4e08e001",
   "metadata": {},
   "source": [
    "### 2. Data"
   ]
  },
  {
   "cell_type": "code",
   "execution_count": null,
   "id": "b0ddcbd3",
   "metadata": {},
   "outputs": [],
   "source": [
    "train_set,test_set,train_targets,test_targets,train_mask,test_mask =  data_load(train_set_path_chic,test_set_path_chic,\n",
    "                                train_targets_path_chic,test_targets_path_chic,False,train_mask_path_chic,test_mask_path_chic,False,20,5)\n",
    "\n",
    "X_train,y_train = data_preprocess_chic(train_set,train_targets)\n",
    "X_test,y_test = data_preprocess_chic(test_set,test_targets)"
   ]
  },
  {
   "cell_type": "markdown",
   "id": "8e446f40",
   "metadata": {},
   "source": [
    "### 2. SVR"
   ]
  },
  {
   "cell_type": "code",
   "execution_count": null,
   "id": "83203f7b",
   "metadata": {},
   "outputs": [],
   "source": [
    "parameters = {'kernel': ['rbf','linear','sigmoid','poly'],'tol': [0.01,0.001],'gamma': ['scale','auto']}\n",
    "\n",
    "SVR_random = svr_random_grid_search_cv(parameters,X_train,y_train,cores)\n",
    "svr_MAE,svr_MSE,y_predicted = svr_model_training(X_train,X_test,y_train,y_test,SVR_random)\n",
    "plot_actuals_predictions(y_predicted,y_test,'ChickePox')\n",
    "\n",
    "results = get_results_df(SVR_random,project_path,'ChickePox')\n",
    "results"
   ]
  },
  {
   "cell_type": "markdown",
   "id": "24826953",
   "metadata": {},
   "source": [
    "### 2. KNN"
   ]
  },
  {
   "cell_type": "code",
   "execution_count": null,
   "id": "3c24eb86",
   "metadata": {},
   "outputs": [],
   "source": [
    "knn_MAE,knn_MSE = knn_model_training(X_train,X_test,y_train,y_test)"
   ]
  },
  {
   "cell_type": "code",
   "execution_count": null,
   "id": "f100143c",
   "metadata": {},
   "outputs": [],
   "source": []
  }
 ],
 "metadata": {
  "kernelspec": {
   "display_name": "full_ml",
   "language": "python",
   "name": "full_ml"
  },
  "language_info": {
   "codemirror_mode": {
    "name": "ipython",
    "version": 3
   },
   "file_extension": ".py",
   "mimetype": "text/x-python",
   "name": "python",
   "nbconvert_exporter": "python",
   "pygments_lexer": "ipython3",
   "version": "3.8.13"
  }
 },
 "nbformat": 4,
 "nbformat_minor": 5
}
